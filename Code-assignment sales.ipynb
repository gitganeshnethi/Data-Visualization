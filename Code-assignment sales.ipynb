{
 "cells": [
  {
   "cell_type": "code",
   "execution_count": 1,
   "metadata": {},
   "outputs": [],
   "source": [
    "import pandas as pd\n",
    "import numpy as np"
   ]
  },
  {
   "cell_type": "code",
   "execution_count": 2,
   "metadata": {},
   "outputs": [],
   "source": [
    "sales = pd.read_excel('sales_data.xlsx')\n",
    "dates = pd.read_excel('date.xlsx')"
   ]
  },
  {
   "cell_type": "code",
   "execution_count": 3,
   "metadata": {},
   "outputs": [
    {
     "name": "stdout",
     "output_type": "stream",
     "text": [
      "(541909, 8)\n",
      "(541909, 6)\n"
     ]
    }
   ],
   "source": [
    "print(sales.shape)\n",
    "print(dates.shape)"
   ]
  },
  {
   "cell_type": "code",
   "execution_count": 4,
   "metadata": {},
   "outputs": [
    {
     "data": {
      "text/plain": [
       "Index(['timestamp              ', 'date', 'day_name', 'day_of_month',\n",
       "       'month_of_year', 'time_of_day(hh:mm:ss)'],\n",
       "      dtype='object')"
      ]
     },
     "execution_count": 4,
     "metadata": {},
     "output_type": "execute_result"
    }
   ],
   "source": [
    "dates.columns"
   ]
  },
  {
   "cell_type": "code",
   "execution_count": 5,
   "metadata": {},
   "outputs": [],
   "source": [
    "data = sales.join(dates)"
   ]
  },
  {
   "cell_type": "code",
   "execution_count": 6,
   "metadata": {},
   "outputs": [
    {
     "data": {
      "text/plain": [
       "Index(['transaction id', 'product id', 'product description', 'quantity sold',\n",
       "       'transaction timestamp', 'unit price', 'customer id',\n",
       "       'transaction country', 'timestamp              ', 'date', 'day_name',\n",
       "       'day_of_month', 'month_of_year', 'time_of_day(hh:mm:ss)'],\n",
       "      dtype='object')"
      ]
     },
     "execution_count": 6,
     "metadata": {},
     "output_type": "execute_result"
    }
   ],
   "source": [
    "data.columns"
   ]
  },
  {
   "cell_type": "markdown",
   "metadata": {},
   "source": [
    "# Create a new column to know sold and cancellatons"
   ]
  },
  {
   "cell_type": "code",
   "execution_count": 7,
   "metadata": {},
   "outputs": [],
   "source": [
    "def st(df):\n",
    "    if df[0] == 'C':\n",
    "        return 'cancelled'\n",
    "    else:\n",
    "        return 'Sold'"
   ]
  },
  {
   "cell_type": "code",
   "execution_count": 8,
   "metadata": {},
   "outputs": [],
   "source": [
    "data['status'] = data['transaction id'].apply(lambda x: st(str(x)))"
   ]
  },
  {
   "cell_type": "code",
   "execution_count": 9,
   "metadata": {},
   "outputs": [
    {
     "data": {
      "text/plain": [
       "<bound method Series.unique of 141       C536379\n",
       "154       C536383\n",
       "235       C536391\n",
       "236       C536391\n",
       "237       C536391\n",
       "238       C536391\n",
       "239       C536391\n",
       "240       C536391\n",
       "241       C536391\n",
       "939       C536506\n",
       "1441      C536543\n",
       "1442      C536543\n",
       "1973      C536548\n",
       "1974      C536548\n",
       "1975      C536548\n",
       "1976      C536548\n",
       "1977      C536548\n",
       "1978      C536548\n",
       "1979      C536548\n",
       "1980      C536548\n",
       "1981      C536548\n",
       "1982      C536548\n",
       "1983      C536548\n",
       "1984      C536548\n",
       "1985      C536548\n",
       "1986      C536548\n",
       "3170      C536606\n",
       "3338      C536622\n",
       "3410      C536625\n",
       "3693      C536642\n",
       "           ...   \n",
       "538564    C581409\n",
       "538565    C581409\n",
       "538566    C581409\n",
       "538567    C581409\n",
       "540072    C581460\n",
       "540073    C581460\n",
       "540078    C581462\n",
       "540079    C581462\n",
       "540080    C581463\n",
       "540081    C581464\n",
       "540082    C581464\n",
       "540083    C581465\n",
       "540084    C581465\n",
       "540085    C581465\n",
       "540086    C581465\n",
       "540087    C581466\n",
       "540088    C581466\n",
       "540089    C581466\n",
       "540090    C581466\n",
       "540091    C581466\n",
       "540141    C581468\n",
       "540142    C581468\n",
       "540176    C581470\n",
       "540422    C581484\n",
       "540448    C581490\n",
       "540449    C581490\n",
       "541541    C581499\n",
       "541715    C581568\n",
       "541716    C581569\n",
       "541717    C581569\n",
       "Name: transaction id, Length: 9288, dtype: object>"
      ]
     },
     "execution_count": 9,
     "metadata": {},
     "output_type": "execute_result"
    }
   ],
   "source": [
    "data[data['status']=='cancelled']['transaction id'].unique\n",
    "\n"
   ]
  },
  {
   "cell_type": "markdown",
   "metadata": {},
   "source": [
    "# creating new column price to know total price "
   ]
  },
  {
   "cell_type": "code",
   "execution_count": 12,
   "metadata": {},
   "outputs": [],
   "source": [
    "data['price'] = data['unit price']*data['quantity sold']"
   ]
  },
  {
   "cell_type": "code",
   "execution_count": 13,
   "metadata": {},
   "outputs": [
    {
     "data": {
      "text/plain": [
       "0    15.30\n",
       "1    20.34\n",
       "2    22.00\n",
       "3    20.34\n",
       "4    20.34\n",
       "Name: price, dtype: float64"
      ]
     },
     "execution_count": 13,
     "metadata": {},
     "output_type": "execute_result"
    }
   ],
   "source": [
    "data['price'].head()"
   ]
  },
  {
   "cell_type": "code",
   "execution_count": 67,
   "metadata": {},
   "outputs": [
    {
     "data": {
      "text/plain": [
       "168469.6"
      ]
     },
     "execution_count": 67,
     "metadata": {},
     "output_type": "execute_result"
    }
   ],
   "source": [
    "data[['price','customer id','transaction id']].groupby(['transaction id','customer id'])['price'].sum().max()"
   ]
  },
  {
   "cell_type": "code",
   "execution_count": null,
   "metadata": {},
   "outputs": [],
   "source": []
  },
  {
   "cell_type": "code",
   "execution_count": null,
   "metadata": {},
   "outputs": [],
   "source": []
  },
  {
   "cell_type": "code",
   "execution_count": 14,
   "metadata": {},
   "outputs": [
    {
     "data": {
      "text/plain": [
       "(541909, 16)"
      ]
     },
     "execution_count": 14,
     "metadata": {},
     "output_type": "execute_result"
    }
   ],
   "source": [
    "data.shape"
   ]
  },
  {
   "cell_type": "code",
   "execution_count": 15,
   "metadata": {},
   "outputs": [
    {
     "data": {
      "text/plain": [
       "Sold         532621\n",
       "cancelled      9288\n",
       "Name: status, dtype: int64"
      ]
     },
     "execution_count": 15,
     "metadata": {},
     "output_type": "execute_result"
    }
   ],
   "source": [
    "data['status'].value_counts()"
   ]
  },
  {
   "cell_type": "code",
   "execution_count": 16,
   "metadata": {},
   "outputs": [
    {
     "data": {
      "text/plain": [
       "(532621, 16)"
      ]
     },
     "execution_count": 16,
     "metadata": {},
     "output_type": "execute_result"
    }
   ],
   "source": [
    "dataset = data[data['status']=='Sold']\n",
    "dataset.shape"
   ]
  },
  {
   "cell_type": "code",
   "execution_count": 136,
   "metadata": {},
   "outputs": [
    {
     "name": "stdout",
     "output_type": "stream",
     "text": [
      "5231\n"
     ]
    },
    {
     "name": "stderr",
     "output_type": "stream",
     "text": [
      "C:\\Users\\Administrator\\Anaconda3\\lib\\site-packages\\ipykernel_launcher.py:13: SettingWithCopyWarning: \n",
      "A value is trying to be set on a copy of a slice from a DataFrame\n",
      "\n",
      "See the caveats in the documentation: http://pandas.pydata.org/pandas-docs/stable/indexing.html#indexing-view-versus-copy\n",
      "  del sys.path[0]\n",
      "C:\\Users\\Administrator\\Anaconda3\\lib\\site-packages\\ipykernel_launcher.py:16: SettingWithCopyWarning: \n",
      "A value is trying to be set on a copy of a slice from a DataFrame\n",
      "\n",
      "See the caveats in the documentation: http://pandas.pydata.org/pandas-docs/stable/indexing.html#indexing-view-versus-copy\n",
      "  app.launch_new_instance()\n"
     ]
    },
    {
     "name": "stdout",
     "output_type": "stream",
     "text": [
      "                         0\n",
      "transaction id           0\n",
      "product id               0\n",
      "product description      0\n",
      "quantity sold            0\n",
      "transaction timestamp    0\n",
      "unit price               0\n",
      "customer id              0\n",
      "transaction country      0\n",
      "timestamp                0\n",
      "date                     0\n",
      "day_name                 0\n",
      "day_of_month             0\n",
      "month_of_year            0\n",
      "time_of_day(hh:mm:ss)    0\n",
      "status                   0\n",
      "price                    0\n",
      "4339\n"
     ]
    },
    {
     "data": {
      "image/png": "[encoded data removed]",
      "text/plain": [
       "<Figure size 432x288 with 1 Axes>"
      ]
     },
     "metadata": {
      "needs_background": "light"
     },
     "output_type": "display_data"
    },
    {
     "data": {
      "image/png": "[encoded data removed]",
      "text/plain": [
       "<Figure size 432x288 with 1 Axes>"
      ]
     },
     "metadata": {
      "needs_background": "light"
     },
     "output_type": "display_data"
    },
    {
     "data": {
      "image/png": "[encoded data removed]",
      "text/plain": [
       "<Figure size 432x288 with 1 Axes>"
      ]
     },
     "metadata": {
      "needs_background": "light"
     },
     "output_type": "display_data"
    }
   ],
   "source": [
    "\n",
    "print (dataset.duplicated().sum())    \n",
    "dataset.drop_duplicates(inplace = True)\n",
    "dataset.shape   #(536641, 8)\n",
    "#Removing missing values based on  CustomerID.\n",
    "dataset.dropna(axis = 0, subset =['customer id'], inplace = True)\n",
    "dataset.shape #(406829, 8)\n",
    "print (pd.DataFrame(dataset.isnull().sum()))    #Checking for any null entries column wise, We can see that there are 0 null entries\n",
    "#Removing Cancelled orders\n",
    "#dataset = dataset[(dataset['transaction id']).apply(lambda x:( 'C' not in x))]\n",
    "dataset.shape    #(392732, 8)\n",
    "df_customerid_groups=dataset.groupby(\"customer id\")\n",
    "print (len((df_customerid_groups.groups))) #length of dictionary - 4339\n",
    "\n",
    "df_cluster=pd.DataFrame(columns=['quantity sold','unit price','customer id'])\n",
    "count=0\n",
    "for k,v in (df_customerid_groups):\n",
    "    df_cluster.loc[count] = [(v['quantity sold'].sum()), v['unit price'].sum(), k]\n",
    "    count+=1\n",
    "df_cluster.shape  #(4339, 3)\n",
    "# Applying K-Means Clustering Algorithm\n",
    "# We use only 'Quantity','UnitPrice' columns to cluser \n",
    "X = df_cluster.iloc[:, [0, 1]].values\n",
    "\n",
    "# Feature Scaling\n",
    "from sklearn.preprocessing import StandardScaler\n",
    "sc_X = StandardScaler()\n",
    "X= sc_X.fit_transform(X)\n",
    "#Using the Elbow method to find the optical number of clusters\n",
    "from sklearn.cluster import KMeans\n",
    "wcss = [] #With in cluster sum of squers(Inertia)\n",
    "\n",
    "for i in range(1,11): #From 2-10 doing multiple random initializations can make a huge difference to find a better local optima\n",
    "    kmeans = KMeans(n_clusters = i, init ='k-means++',max_iter=300,n_init=10)\n",
    "    kmeans.fit(X)\n",
    "    wcss.append(kmeans.inertia_)\n",
    "plt.plot(range(1,11) , wcss)\n",
    "plt.title('The Elbow Method')\n",
    "plt.xlabel('Number Of Customer Clusters(customer type clusters)')\n",
    "plt.ylabel('With in cluster sum of squers(WCSS)')\n",
    "plt.show()\n",
    "\n",
    "# Fitting K-Means to the dataset\n",
    "kmeans = KMeans(n_clusters = 3, init = 'k-means++')\n",
    "y_kmeans = kmeans.fit_predict(X)\n",
    "\n",
    "# Visualising the clusters\n",
    "plt.scatter(X[y_kmeans == 0, 0], X[y_kmeans == 0, 1], s = 50, c = 'red', label = 'Customer Type 1')\n",
    "plt.scatter(X[y_kmeans == 1, 0], X[y_kmeans == 1, 1], s = 50, c = 'blue', label = 'Customer Type 2')\n",
    "plt.scatter(X[y_kmeans == 2, 0], X[y_kmeans == 2, 1], s = 50, c = 'green', label = 'Customer Type 3')\n",
    "plt.scatter(kmeans.cluster_centers_[:, 0], kmeans.cluster_centers_[:, 1], s = 100, c = 'yellow', label = 'Centroids')\n",
    "plt.title('Type Of Customers(customer type clusters)')\n",
    "plt.xlabel('Number of items Purchased(Quantity)')\n",
    "plt.ylabel('Product price per unit in sterling(Unit Price)')\n",
    "plt.legend()\n",
    "plt.show()\n",
    "\n",
    "x=[];y=[]\n",
    "for i in range(4339):\n",
    "    x.append(X[i][0])\n",
    "    y.append(X[i][1])\n",
    "plt.scatter(x,y)\n",
    "plt.title('Plot of training data')\n",
    "plt.xlabel('Number of items Purchased(Quantity)')\n",
    "plt.ylabel('Product price per unit in sterling(Unit Price)')\n",
    "plt.show()\n"
   ]
  },
  {
   "cell_type": "code",
   "execution_count": null,
   "metadata": {},
   "outputs": [],
   "source": []
  },
  {
   "cell_type": "code",
   "execution_count": 137,
   "metadata": {},
   "outputs": [
    {
     "data": {
      "text/plain": [
       "Index(['transaction id', 'product id', 'product description', 'quantity sold',\n",
       "       'transaction timestamp', 'unit price', 'customer id',\n",
       "       'transaction country', 'timestamp              ', 'date', 'day_name',\n",
       "       'day_of_month', 'month_of_year', 'time_of_day(hh:mm:ss)', 'status',\n",
       "       'price'],\n",
       "      dtype='object')"
      ]
     },
     "execution_count": 137,
     "metadata": {},
     "output_type": "execute_result"
    }
   ],
   "source": [
    "data.columns"
   ]
  },
  {
   "cell_type": "code",
   "execution_count": 17,
   "metadata": {},
   "outputs": [
    {
     "data": {
      "text/plain": [
       "Sold         532621\n",
       "cancelled      9288\n",
       "Name: status, dtype: int64"
      ]
     },
     "execution_count": 17,
     "metadata": {},
     "output_type": "execute_result"
    }
   ],
   "source": [
    "data['status'].value_counts()"
   ]
  },
  {
   "cell_type": "code",
   "execution_count": 18,
   "metadata": {},
   "outputs": [
    {
     "data": {
      "text/plain": [
       "(541909, 16)"
      ]
     },
     "execution_count": 18,
     "metadata": {},
     "output_type": "execute_result"
    }
   ],
   "source": [
    "data.shape"
   ]
  },
  {
   "cell_type": "code",
   "execution_count": 19,
   "metadata": {},
   "outputs": [
    {
     "data": {
      "text/plain": [
       "1.7139409015166756"
      ]
     },
     "execution_count": 19,
     "metadata": {},
     "output_type": "execute_result"
    }
   ],
   "source": [
    "(9288/541909)*100"
   ]
  },
  {
   "cell_type": "markdown",
   "metadata": {},
   "source": [
    "# Month wise trends"
   ]
  },
  {
   "cell_type": "code",
   "execution_count": 22,
   "metadata": {},
   "outputs": [],
   "source": [
    "from matplotlib import pyplot as plt"
   ]
  },
  {
   "cell_type": "code",
   "execution_count": 27,
   "metadata": {},
   "outputs": [
    {
     "data": {
      "image/png": "[encoded data removed]",
      "text/plain": [
       "<Figure size 864x432 with 1 Axes>"
      ]
     },
     "metadata": {
      "needs_background": "light"
     },
     "output_type": "display_data"
    }
   ],
   "source": [
    "plt.figure(figsize=(12,6))\n",
    "plt.title(\"Frequency of transactions by Month\", fontsize=15)\n",
    "transaction = data.groupby(['transaction id'])['month_of_year'].unique()\n",
    "transaction.value_counts().sort_index().plot('bar')\n",
    "plt.show()"
   ]
  },
  {
   "cell_type": "markdown",
   "metadata": {},
   "source": [
    "# Day Wise"
   ]
  },
  {
   "cell_type": "code",
   "execution_count": 30,
   "metadata": {},
   "outputs": [
    {
     "data": {
      "text/plain": [
       "<matplotlib.axes._subplots.AxesSubplot at 0x1d0f7ffeb70>"
      ]
     },
     "execution_count": 30,
     "metadata": {},
     "output_type": "execute_result"
    },
    {
     "data": {
      "image/png": "[encoded data removed]",
      "text/plain": [
       "<Figure size 864x432 with 1 Axes>"
      ]
     },
     "metadata": {
      "needs_background": "light"
     },
     "output_type": "display_data"
    }
   ],
   "source": [
    "plt.figure(figsize=(12,6))\n",
    "plt.title(\"Frequency of transactions by Day\", fontsize=15)\n",
    "t1 = data.groupby(['transaction id'])['day_of_month'].unique()\n",
    "t1.value_counts().sort_index().plot('bar')\n",
    "t1.value_counts().sort_index().plot('line')"
   ]
  },
  {
   "cell_type": "code",
   "execution_count": null,
   "metadata": {},
   "outputs": [],
   "source": []
  },
  {
   "cell_type": "markdown",
   "metadata": {},
   "source": [
    "# WeekDay Wise"
   ]
  },
  {
   "cell_type": "code",
   "execution_count": 33,
   "metadata": {},
   "outputs": [
    {
     "data": {
      "text/plain": [
       "<matplotlib.axes._subplots.AxesSubplot at 0x1d0f44c42e8>"
      ]
     },
     "execution_count": 33,
     "metadata": {},
     "output_type": "execute_result"
    },
    {
     "data": {
      "image/png": "[encoded data removed]",
      "text/plain": [
       "<Figure size 576x288 with 1 Axes>"
      ]
     },
     "metadata": {
      "needs_background": "light"
     },
     "output_type": "display_data"
    }
   ],
   "source": [
    "plt.figure(figsize=(8,4))\n",
    "plt.title(\"Frequency of transactions by day of week\", fontsize=12)\n",
    "t2 = data.groupby(['transaction id'])['day_name'].unique()\n",
    "t2.value_counts().sort_index().plot.bar()"
   ]
  },
  {
   "cell_type": "markdown",
   "metadata": {},
   "source": [
    "# Hour wise"
   ]
  },
  {
   "cell_type": "code",
   "execution_count": 34,
   "metadata": {},
   "outputs": [],
   "source": [
    "data['Hour'] = sales['transaction timestamp'].dt.hour"
   ]
  },
  {
   "cell_type": "code",
   "execution_count": null,
   "metadata": {},
   "outputs": [],
   "source": []
  },
  {
   "cell_type": "code",
   "execution_count": 37,
   "metadata": {},
   "outputs": [
    {
     "data": {
      "text/plain": [
       "<matplotlib.axes._subplots.AxesSubplot at 0x1d0f0868c88>"
      ]
     },
     "execution_count": 37,
     "metadata": {},
     "output_type": "execute_result"
    },
    {
     "data": {
      "image/png": "[encoded data removed]",
      "text/plain": [
       "<Figure size 720x360 with 1 Axes>"
      ]
     },
     "metadata": {
      "needs_background": "light"
     },
     "output_type": "display_data"
    }
   ],
   "source": [
    "plt.figure(figsize=(10,5))\n",
    "plt.title(\"Frequency of transactions by hour of day\", fontsize=11)\n",
    "t3 = data.groupby(['transaction id'])['Hour'].unique()\n",
    "(t3.value_counts()).iloc[0:-1].sort_index().plot.bar()\n",
    "(t3.value_counts()).iloc[0:-1].sort_index().plot.line()"
   ]
  },
  {
   "cell_type": "code",
   "execution_count": null,
   "metadata": {},
   "outputs": [],
   "source": []
  },
  {
   "cell_type": "code",
   "execution_count": null,
   "metadata": {},
   "outputs": [],
   "source": []
  },
  {
   "cell_type": "code",
   "execution_count": 39,
   "metadata": {},
   "outputs": [],
   "source": [
    "#first order vs reorder"
   ]
  },
  {
   "cell_type": "code",
   "execution_count": 38,
   "metadata": {},
   "outputs": [
    {
     "data": {
      "text/html": [
       "<div>\n",
       "<style scoped>\n",
       "    .dataframe tbody tr th:only-of-type {\n",
       "        vertical-align: middle;\n",
       "    }\n",
       "\n",
       "    .dataframe tbody tr th {\n",
       "        vertical-align: top;\n",
       "    }\n",
       "\n",
       "    .dataframe thead th {\n",
       "        text-align: right;\n",
       "    }\n",
       "</style>\n",
       "<table border=\"1\" class=\"dataframe\">\n",
       "  <thead>\n",
       "    <tr style=\"text-align: right;\">\n",
       "      <th></th>\n",
       "      <th>transaction id</th>\n",
       "      <th>product id</th>\n",
       "      <th>product description</th>\n",
       "      <th>quantity sold</th>\n",
       "      <th>transaction timestamp</th>\n",
       "      <th>unit price</th>\n",
       "      <th>customer id</th>\n",
       "      <th>transaction country</th>\n",
       "      <th>timestamp</th>\n",
       "      <th>date</th>\n",
       "      <th>day_name</th>\n",
       "      <th>day_of_month</th>\n",
       "      <th>month_of_year</th>\n",
       "      <th>time_of_day(hh:mm:ss)</th>\n",
       "      <th>status</th>\n",
       "      <th>price</th>\n",
       "      <th>Hour</th>\n",
       "      <th>reorder</th>\n",
       "    </tr>\n",
       "  </thead>\n",
       "  <tbody>\n",
       "    <tr>\n",
       "      <th>61619</th>\n",
       "      <td>541431</td>\n",
       "      <td>23166</td>\n",
       "      <td>MEDIUM CERAMIC TOP STORAGE JAR</td>\n",
       "      <td>74215</td>\n",
       "      <td>2011-01-18 10:01:00</td>\n",
       "      <td>1.04</td>\n",
       "      <td>12346.0</td>\n",
       "      <td>United Kingdom</td>\n",
       "      <td>2011-01-18 10:01:00</td>\n",
       "      <td>2011-01-18</td>\n",
       "      <td>Tuesday</td>\n",
       "      <td>18</td>\n",
       "      <td>January</td>\n",
       "      <td>10:01:00</td>\n",
       "      <td>Sold</td>\n",
       "      <td>77183.6</td>\n",
       "      <td>10</td>\n",
       "      <td>0</td>\n",
       "    </tr>\n",
       "    <tr>\n",
       "      <th>61624</th>\n",
       "      <td>C541433</td>\n",
       "      <td>23166</td>\n",
       "      <td>MEDIUM CERAMIC TOP STORAGE JAR</td>\n",
       "      <td>-74215</td>\n",
       "      <td>2011-01-18 10:17:00</td>\n",
       "      <td>1.04</td>\n",
       "      <td>12346.0</td>\n",
       "      <td>United Kingdom</td>\n",
       "      <td>2011-01-18 10:17:00</td>\n",
       "      <td>2011-01-18</td>\n",
       "      <td>Tuesday</td>\n",
       "      <td>18</td>\n",
       "      <td>January</td>\n",
       "      <td>10:17:00</td>\n",
       "      <td>cancelled</td>\n",
       "      <td>-77183.6</td>\n",
       "      <td>10</td>\n",
       "      <td>1</td>\n",
       "    </tr>\n",
       "    <tr>\n",
       "      <th>148306</th>\n",
       "      <td>549222</td>\n",
       "      <td>16008</td>\n",
       "      <td>SMALL FOLDING SCISSOR(POINTED EDGE)</td>\n",
       "      <td>24</td>\n",
       "      <td>2011-04-07 10:43:00</td>\n",
       "      <td>0.25</td>\n",
       "      <td>12347.0</td>\n",
       "      <td>Iceland</td>\n",
       "      <td>2011-04-07 10:43:00</td>\n",
       "      <td>2011-04-07</td>\n",
       "      <td>Thursday</td>\n",
       "      <td>7</td>\n",
       "      <td>April</td>\n",
       "      <td>10:43:00</td>\n",
       "      <td>Sold</td>\n",
       "      <td>6.0</td>\n",
       "      <td>10</td>\n",
       "      <td>0</td>\n",
       "    </tr>\n",
       "    <tr>\n",
       "      <th>220583</th>\n",
       "      <td>556201</td>\n",
       "      <td>17021</td>\n",
       "      <td>NAMASTE SWAGAT INCENSE</td>\n",
       "      <td>36</td>\n",
       "      <td>2011-06-09 13:01:00</td>\n",
       "      <td>0.30</td>\n",
       "      <td>12347.0</td>\n",
       "      <td>Iceland</td>\n",
       "      <td>2011-06-09 13:01:00</td>\n",
       "      <td>2011-06-09</td>\n",
       "      <td>Thursday</td>\n",
       "      <td>9</td>\n",
       "      <td>June</td>\n",
       "      <td>13:01:00</td>\n",
       "      <td>Sold</td>\n",
       "      <td>10.8</td>\n",
       "      <td>13</td>\n",
       "      <td>0</td>\n",
       "    </tr>\n",
       "    <tr>\n",
       "      <th>148289</th>\n",
       "      <td>549222</td>\n",
       "      <td>20665</td>\n",
       "      <td>RED RETROSPOT PURSE</td>\n",
       "      <td>6</td>\n",
       "      <td>2011-04-07 10:43:00</td>\n",
       "      <td>2.95</td>\n",
       "      <td>12347.0</td>\n",
       "      <td>Iceland</td>\n",
       "      <td>2011-04-07 10:43:00</td>\n",
       "      <td>2011-04-07</td>\n",
       "      <td>Thursday</td>\n",
       "      <td>7</td>\n",
       "      <td>April</td>\n",
       "      <td>10:43:00</td>\n",
       "      <td>Sold</td>\n",
       "      <td>17.7</td>\n",
       "      <td>10</td>\n",
       "      <td>0</td>\n",
       "    </tr>\n",
       "  </tbody>\n",
       "</table>\n",
       "</div>"
      ],
      "text/plain": [
       "       transaction id product id                  product description  \\\n",
       "61619          541431      23166       MEDIUM CERAMIC TOP STORAGE JAR   \n",
       "61624         C541433      23166       MEDIUM CERAMIC TOP STORAGE JAR   \n",
       "148306         549222      16008  SMALL FOLDING SCISSOR(POINTED EDGE)   \n",
       "220583         556201      17021               NAMASTE SWAGAT INCENSE   \n",
       "148289         549222      20665                 RED RETROSPOT PURSE    \n",
       "\n",
       "        quantity sold transaction timestamp  unit price  customer id  \\\n",
       "61619           74215   2011-01-18 10:01:00        1.04      12346.0   \n",
       "61624          -74215   2011-01-18 10:17:00        1.04      12346.0   \n",
       "148306             24   2011-04-07 10:43:00        0.25      12347.0   \n",
       "220583             36   2011-06-09 13:01:00        0.30      12347.0   \n",
       "148289              6   2011-04-07 10:43:00        2.95      12347.0   \n",
       "\n",
       "       transaction country timestamp                     date  day_name  \\\n",
       "61619       United Kingdom     2011-01-18 10:01:00 2011-01-18   Tuesday   \n",
       "61624       United Kingdom     2011-01-18 10:17:00 2011-01-18   Tuesday   \n",
       "148306             Iceland     2011-04-07 10:43:00 2011-04-07  Thursday   \n",
       "220583             Iceland     2011-06-09 13:01:00 2011-06-09  Thursday   \n",
       "148289             Iceland     2011-04-07 10:43:00 2011-04-07  Thursday   \n",
       "\n",
       "        day_of_month month_of_year time_of_day(hh:mm:ss)     status    price  \\\n",
       "61619             18       January              10:01:00       Sold  77183.6   \n",
       "61624             18       January              10:17:00  cancelled -77183.6   \n",
       "148306             7         April              10:43:00       Sold      6.0   \n",
       "220583             9          June              13:01:00       Sold     10.8   \n",
       "148289             7         April              10:43:00       Sold     17.7   \n",
       "\n",
       "        Hour  reorder  \n",
       "61619     10        0  \n",
       "61624     10        1  \n",
       "148306    10        0  \n",
       "220583    13        0  \n",
       "148289    10        0  "
      ]
     },
     "execution_count": 38,
     "metadata": {},
     "output_type": "execute_result"
    }
   ],
   "source": [
    "df_sort = data.sort_values(['customer id', 'product id', 'transaction timestamp'])\n",
    "df_sort_shift1 = df_sort.shift(1)\n",
    "df_sort_reorder = df_sort.copy()\n",
    "df_sort_reorder['reorder'] = np.where(df_sort['product id'] == df_sort_shift1['product id'], 1,0)\n",
    "df_sort_reorder.head(5)"
   ]
  },
  {
   "cell_type": "code",
   "execution_count": 45,
   "metadata": {},
   "outputs": [
    {
     "data": {
      "text/html": [
       "<div>\n",
       "<style scoped>\n",
       "    .dataframe tbody tr th:only-of-type {\n",
       "        vertical-align: middle;\n",
       "    }\n",
       "\n",
       "    .dataframe tbody tr th {\n",
       "        vertical-align: top;\n",
       "    }\n",
       "\n",
       "    .dataframe thead th {\n",
       "        text-align: right;\n",
       "    }\n",
       "</style>\n",
       "<table border=\"1\" class=\"dataframe\">\n",
       "  <thead>\n",
       "    <tr style=\"text-align: right;\">\n",
       "      <th></th>\n",
       "      <th>reorder</th>\n",
       "    </tr>\n",
       "    <tr>\n",
       "      <th>product description</th>\n",
       "      <th></th>\n",
       "    </tr>\n",
       "  </thead>\n",
       "  <tbody>\n",
       "    <tr>\n",
       "      <th>JUMBO BAG RED RETROSPOT</th>\n",
       "      <td>1522</td>\n",
       "    </tr>\n",
       "    <tr>\n",
       "      <th>WHITE HANGING HEART T-LIGHT HOLDER</th>\n",
       "      <td>1509</td>\n",
       "    </tr>\n",
       "    <tr>\n",
       "      <th>REGENCY CAKESTAND 3 TIER</th>\n",
       "      <td>1312</td>\n",
       "    </tr>\n",
       "    <tr>\n",
       "      <th>LUNCH BAG RED RETROSPOT</th>\n",
       "      <td>1106</td>\n",
       "    </tr>\n",
       "    <tr>\n",
       "      <th>PARTY BUNTING</th>\n",
       "      <td>1018</td>\n",
       "    </tr>\n",
       "    <tr>\n",
       "      <th>LUNCH BAG  BLACK SKULL.</th>\n",
       "      <td>891</td>\n",
       "    </tr>\n",
       "    <tr>\n",
       "      <th>JUMBO STORAGE BAG SUKI</th>\n",
       "      <td>879</td>\n",
       "    </tr>\n",
       "    <tr>\n",
       "      <th>JUMBO BAG PINK POLKADOT</th>\n",
       "      <td>878</td>\n",
       "    </tr>\n",
       "    <tr>\n",
       "      <th>POSTAGE</th>\n",
       "      <td>872</td>\n",
       "    </tr>\n",
       "    <tr>\n",
       "      <th>SET OF 3 CAKE TINS PANTRY DESIGN</th>\n",
       "      <td>832</td>\n",
       "    </tr>\n",
       "  </tbody>\n",
       "</table>\n",
       "</div>"
      ],
      "text/plain": [
       "                                    reorder\n",
       "product description                        \n",
       "JUMBO BAG RED RETROSPOT                1522\n",
       "WHITE HANGING HEART T-LIGHT HOLDER     1509\n",
       "REGENCY CAKESTAND 3 TIER               1312\n",
       "LUNCH BAG RED RETROSPOT                1106\n",
       "PARTY BUNTING                          1018\n",
       "LUNCH BAG  BLACK SKULL.                 891\n",
       "JUMBO STORAGE BAG SUKI                  879\n",
       "JUMBO BAG PINK POLKADOT                 878\n",
       "POSTAGE                                 872\n",
       "SET OF 3 CAKE TINS PANTRY DESIGN        832"
      ]
     },
     "execution_count": 45,
     "metadata": {},
     "output_type": "execute_result"
    }
   ],
   "source": [
    "pd.DataFrame((df_sort_reorder.groupby(['product description'])['reorder'].sum())).sort_values('reorder', ascending = False).head(10)"
   ]
  },
  {
   "cell_type": "markdown",
   "metadata": {},
   "source": [
    "# sales by month"
   ]
  },
  {
   "cell_type": "code",
   "execution_count": 51,
   "metadata": {},
   "outputs": [
    {
     "data": {
      "text/plain": [
       "<matplotlib.axes._subplots.AxesSubplot at 0x1d0e92737f0>"
      ]
     },
     "execution_count": 51,
     "metadata": {},
     "output_type": "execute_result"
    },
    {
     "data": {
      "image/png": "[encoded data removed]",
      "text/plain": [
       "<Figure size 1008x432 with 2 Axes>"
      ]
     },
     "metadata": {
      "needs_background": "light"
     },
     "output_type": "display_data"
    }
   ],
   "source": [
    "notreorder = (df_sort_reorder[df_sort_reorder['reorder'] == 0 ].groupby(['month_of_year'])['price'].sum())\n",
    "reorder = (df_sort_reorder[df_sort_reorder['reorder'] == 1 ].groupby(['month_of_year'])['price'].sum())\n",
    "\n",
    "yearmonth = pd.DataFrame([notreorder , reorder], index=['First Buy', 'Reorder']).transpose()\n",
    "\n",
    "fig, axes = plt.subplots(nrows=1, ncols=2, figsize=(14,6))\n",
    "\n",
    "yearmonth.plot.bar(stacked=True, ax=axes[0])\n"
   ]
  },
  {
   "cell_type": "code",
   "execution_count": null,
   "metadata": {},
   "outputs": [],
   "source": []
  }
 ],
 "metadata": {
  "kernelspec": {
   "display_name": "Python 3",
   "language": "python",
   "name": "python3"
  },
  "language_info": {
   "codemirror_mode": {
    "name": "ipython",
    "version": 3
   },
   "file_extension": ".py",
   "mimetype": "text/x-python",
   "name": "python",
   "nbconvert_exporter": "python",
   "pygments_lexer": "ipython3",
   "version": "3.7.1"
  }
 },
 "nbformat": 4,
 "nbformat_minor": 2
}
